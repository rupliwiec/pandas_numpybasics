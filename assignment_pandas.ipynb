{
 "cells": [
  {
   "cell_type": "markdown",
   "metadata": {},
   "source": [
    "## Датасет собран из базы данных переписи 1994 года и содержит данные о доходах.\n",
    "### Информация о данных:\n",
    "* age: continuous.\n",
    "* workclass: Private, Self-emp-not-inc, Self-emp-inc, Federal-gov, Local-gov, State-gov, Without-pay, Never-worked.\n",
    "* fnlwgt: continuous.\n",
    "* education: Bachelors, Some-college, 11th, HS-grad, Prof-school, Assoc-acdm, Assoc-voc, 9th, 7th-8th, 12th, * Masters, 1st-4th, 10th, Doctorate, 5th-6th, Preschool.\n",
    "* education-num: continuous.\n",
    "* marital-status: Married-civ-spouse, Divorced, Never-married, Separated, Widowed, Married-spouse-absent, Married-AF-spouse.\n",
    "* occupation: Tech-support, Craft-repair, Other-service, Sales, Exec-managerial, Prof-specialty, Handlers-cleaners, Machine-op-inspct, Adm-clerical, Farming-fishing, Transport-moving, Priv-house-serv, Protective-serv, Armed-Forces.\n",
    "* relationship: Wife, Own-child, Husband, Not-in-family, Other-relative, Unmarried.\n",
    "* race: White, Asian-Pac-Islander, Amer-Indian-Eskimo, Other, Black.\n",
    "* sex: Female, Male.\n",
    "* capital-gain: continuous.\n",
    "* capital-loss: continuous.\n",
    "* hours-per-week: continuous.\n",
    "* native-country: United-States, Cambodia, England, Puerto-Rico, Canada, Germany, Outlying-US(Guam-USVI-etc), India, Japan, Greece, South, China, Cuba, Iran, Honduras, Philippines, Italy, Poland, Jamaica, Vietnam, Mexico, Portugal, Ireland, France, Dominican-Republic, Laos, Ecuador, Taiwan, Haiti, Columbia, Hungary, Guatemala, Nicaragua, Scotland, Thailand, Yugoslavia, El-Salvador, Trinadad&Tobago, Peru, Hong, Holand-Netherlands.\n",
    "* salary: >50K,<=50K\n",
    "\n",
    "## Проведите анализ данных при помощи Pandas выполнив поставленные задачи.\n",
    "#### "
   ]
  },
  {
   "cell_type": "code",
   "execution_count": 2,
   "metadata": {},
   "outputs": [],
   "source": [
    "import pandas as pd"
   ]
  },
  {
   "cell_type": "code",
   "execution_count": 3,
   "metadata": {},
   "outputs": [
    {
     "data": {
      "text/html": [
       "<div>\n",
       "<style scoped>\n",
       "    .dataframe tbody tr th:only-of-type {\n",
       "        vertical-align: middle;\n",
       "    }\n",
       "\n",
       "    .dataframe tbody tr th {\n",
       "        vertical-align: top;\n",
       "    }\n",
       "\n",
       "    .dataframe thead th {\n",
       "        text-align: right;\n",
       "    }\n",
       "</style>\n",
       "<table border=\"1\" class=\"dataframe\">\n",
       "  <thead>\n",
       "    <tr style=\"text-align: right;\">\n",
       "      <th></th>\n",
       "      <th>age</th>\n",
       "      <th>workclass</th>\n",
       "      <th>fnlwgt</th>\n",
       "      <th>education</th>\n",
       "      <th>education-num</th>\n",
       "      <th>marital-status</th>\n",
       "      <th>occupation</th>\n",
       "      <th>relationship</th>\n",
       "      <th>race</th>\n",
       "      <th>sex</th>\n",
       "      <th>capital-gain</th>\n",
       "      <th>capital-loss</th>\n",
       "      <th>hours-per-week</th>\n",
       "      <th>native-country</th>\n",
       "      <th>salary</th>\n",
       "    </tr>\n",
       "  </thead>\n",
       "  <tbody>\n",
       "    <tr>\n",
       "      <th>0</th>\n",
       "      <td>39</td>\n",
       "      <td>State-gov</td>\n",
       "      <td>77516</td>\n",
       "      <td>Bachelors</td>\n",
       "      <td>13</td>\n",
       "      <td>Never-married</td>\n",
       "      <td>Adm-clerical</td>\n",
       "      <td>Not-in-family</td>\n",
       "      <td>White</td>\n",
       "      <td>Male</td>\n",
       "      <td>2174</td>\n",
       "      <td>0</td>\n",
       "      <td>40</td>\n",
       "      <td>United-States</td>\n",
       "      <td>&lt;=50K</td>\n",
       "    </tr>\n",
       "    <tr>\n",
       "      <th>1</th>\n",
       "      <td>50</td>\n",
       "      <td>Self-emp-not-inc</td>\n",
       "      <td>83311</td>\n",
       "      <td>Bachelors</td>\n",
       "      <td>13</td>\n",
       "      <td>Married-civ-spouse</td>\n",
       "      <td>Exec-managerial</td>\n",
       "      <td>Husband</td>\n",
       "      <td>White</td>\n",
       "      <td>Male</td>\n",
       "      <td>0</td>\n",
       "      <td>0</td>\n",
       "      <td>13</td>\n",
       "      <td>United-States</td>\n",
       "      <td>&lt;=50K</td>\n",
       "    </tr>\n",
       "    <tr>\n",
       "      <th>2</th>\n",
       "      <td>38</td>\n",
       "      <td>Private</td>\n",
       "      <td>215646</td>\n",
       "      <td>HS-grad</td>\n",
       "      <td>9</td>\n",
       "      <td>Divorced</td>\n",
       "      <td>Handlers-cleaners</td>\n",
       "      <td>Not-in-family</td>\n",
       "      <td>White</td>\n",
       "      <td>Male</td>\n",
       "      <td>0</td>\n",
       "      <td>0</td>\n",
       "      <td>40</td>\n",
       "      <td>United-States</td>\n",
       "      <td>&lt;=50K</td>\n",
       "    </tr>\n",
       "    <tr>\n",
       "      <th>3</th>\n",
       "      <td>53</td>\n",
       "      <td>Private</td>\n",
       "      <td>234721</td>\n",
       "      <td>11th</td>\n",
       "      <td>7</td>\n",
       "      <td>Married-civ-spouse</td>\n",
       "      <td>Handlers-cleaners</td>\n",
       "      <td>Husband</td>\n",
       "      <td>Black</td>\n",
       "      <td>Male</td>\n",
       "      <td>0</td>\n",
       "      <td>0</td>\n",
       "      <td>40</td>\n",
       "      <td>United-States</td>\n",
       "      <td>&lt;=50K</td>\n",
       "    </tr>\n",
       "    <tr>\n",
       "      <th>4</th>\n",
       "      <td>28</td>\n",
       "      <td>Private</td>\n",
       "      <td>338409</td>\n",
       "      <td>Bachelors</td>\n",
       "      <td>13</td>\n",
       "      <td>Married-civ-spouse</td>\n",
       "      <td>Prof-specialty</td>\n",
       "      <td>Wife</td>\n",
       "      <td>Black</td>\n",
       "      <td>Female</td>\n",
       "      <td>0</td>\n",
       "      <td>0</td>\n",
       "      <td>40</td>\n",
       "      <td>Cuba</td>\n",
       "      <td>&lt;=50K</td>\n",
       "    </tr>\n",
       "  </tbody>\n",
       "</table>\n",
       "</div>"
      ],
      "text/plain": [
       "   age         workclass  fnlwgt  education  education-num  \\\n",
       "0   39         State-gov   77516  Bachelors             13   \n",
       "1   50  Self-emp-not-inc   83311  Bachelors             13   \n",
       "2   38           Private  215646    HS-grad              9   \n",
       "3   53           Private  234721       11th              7   \n",
       "4   28           Private  338409  Bachelors             13   \n",
       "\n",
       "       marital-status         occupation   relationship   race     sex  \\\n",
       "0       Never-married       Adm-clerical  Not-in-family  White    Male   \n",
       "1  Married-civ-spouse    Exec-managerial        Husband  White    Male   \n",
       "2            Divorced  Handlers-cleaners  Not-in-family  White    Male   \n",
       "3  Married-civ-spouse  Handlers-cleaners        Husband  Black    Male   \n",
       "4  Married-civ-spouse     Prof-specialty           Wife  Black  Female   \n",
       "\n",
       "   capital-gain  capital-loss  hours-per-week native-country salary  \n",
       "0          2174             0              40  United-States  <=50K  \n",
       "1             0             0              13  United-States  <=50K  \n",
       "2             0             0              40  United-States  <=50K  \n",
       "3             0             0              40  United-States  <=50K  \n",
       "4             0             0              40           Cuba  <=50K  "
      ]
     },
     "execution_count": 3,
     "metadata": {},
     "output_type": "execute_result"
    }
   ],
   "source": [
    "# загружаем датасет\n",
    "data = pd.read_csv(\"./data/adult.data.csv\")\n",
    "data.head()"
   ]
  },
  {
   "cell_type": "markdown",
   "metadata": {},
   "source": [
    "**1. Посчитайте, сколько мужчин и женщин (признак *sex*) представлено в этом датасете**"
   ]
  },
  {
   "cell_type": "code",
   "execution_count": 4,
   "metadata": {},
   "outputs": [
    {
     "data": {
      "text/plain": [
       "21790"
      ]
     },
     "execution_count": 4,
     "metadata": {},
     "output_type": "execute_result"
    }
   ],
   "source": [
    "# your code\n",
    "df = data\n",
    "len(df[df['sex']== 'Male'])"
   ]
  },
  {
   "cell_type": "code",
   "execution_count": 5,
   "metadata": {},
   "outputs": [
    {
     "data": {
      "text/plain": [
       "10771"
      ]
     },
     "execution_count": 5,
     "metadata": {},
     "output_type": "execute_result"
    }
   ],
   "source": [
    "len(df[df['sex']== 'Female'])"
   ]
  },
  {
   "cell_type": "code",
   "execution_count": 6,
   "metadata": {},
   "outputs": [
    {
     "data": {
      "text/plain": [
       "sex\n",
       "Male      21790\n",
       "Female    10771\n",
       "Name: count, dtype: int64"
      ]
     },
     "execution_count": 6,
     "metadata": {},
     "output_type": "execute_result"
    }
   ],
   "source": [
    "df = data\n",
    "df[\"sex\"].value_counts()"
   ]
  },
  {
   "cell_type": "markdown",
   "metadata": {},
   "source": [
    "**2. Каков средний возраст мужчин (признак *age*) по всему датасету?**"
   ]
  },
  {
   "cell_type": "code",
   "execution_count": 7,
   "metadata": {},
   "outputs": [
    {
     "data": {
      "text/plain": [
       "39.43354749885268"
      ]
     },
     "execution_count": 7,
     "metadata": {},
     "output_type": "execute_result"
    }
   ],
   "source": [
    "df.loc[df['sex'] == 'Male', 'age'].mean()\n"
   ]
  },
  {
   "cell_type": "markdown",
   "metadata": {},
   "source": [
    "**3. Какова доля граждан Соединенных Штатов (признак *native-country*)?**"
   ]
  },
  {
   "cell_type": "code",
   "execution_count": 8,
   "metadata": {},
   "outputs": [
    {
     "name": "stdout",
     "output_type": "stream",
     "text": [
      "age               89.585701\n",
      "workclass         89.585701\n",
      "fnlwgt            89.585701\n",
      "education         89.585701\n",
      "education-num     89.585701\n",
      "marital-status    89.585701\n",
      "occupation        89.585701\n",
      "relationship      89.585701\n",
      "race              89.585701\n",
      "sex               89.585701\n",
      "capital-gain      89.585701\n",
      "capital-loss      89.585701\n",
      "hours-per-week    89.585701\n",
      "native-country    89.585701\n",
      "salary            89.585701\n",
      "dtype: float64\n"
     ]
    }
   ],
   "source": [
    "a = df['native-country'].count()\n",
    "b = df.loc[df['native-country'].isin(['United-States'])].count()\n",
    "c = b/a * 100\n",
    "print(c)"
   ]
  },
  {
   "cell_type": "markdown",
   "metadata": {},
   "source": [
    "**4-5. Рассчитайте среднее значение и среднеквадратичное отклонение возраста тех, кто получает более 50K в год (признак *salary*) и тех, кто получает менее 50K в год**"
   ]
  },
  {
   "cell_type": "code",
   "execution_count": 9,
   "metadata": {},
   "outputs": [
    {
     "name": "stdout",
     "output_type": "stream",
     "text": [
      "44.24984058155847\n",
      "36.78373786407767\n",
      "10.519027719851826\n",
      "14.02008849082488\n"
     ]
    }
   ],
   "source": [
    "a = df['age'].where(df['salary'] == '>50K').dropna()\n",
    "b = df['age'].where(df['salary'] == '<=50K').dropna()\n",
    "\n",
    "avr1 = a.mean()\n",
    "avr2 = b.mean()\n",
    "\n",
    "savr1 = a.std()\n",
    "savr2 = b.std()\n",
    "\n",
    "print(avr1)\n",
    "print(avr2)\n",
    "\n",
    "print(savr1)\n",
    "print(savr2)"
   ]
  },
  {
   "cell_type": "markdown",
   "metadata": {},
   "source": [
    "**6. Правда ли, что люди, которые получают больше 50k, имеют минимум высшее образование? (признак *education – Bachelors, Prof-school, Assoc-acdm, Assoc-voc, Masters* или *Doctorate*)**"
   ]
  },
  {
   "cell_type": "code",
   "execution_count": 10,
   "metadata": {},
   "outputs": [
    {
     "name": "stdout",
     "output_type": "stream",
     "text": [
      "          education         occupation  hours-per-week native-country salary\n",
      "2           HS-grad  Handlers-cleaners              40  United-States  <=50K\n",
      "3              11th  Handlers-cleaners              40  United-States  <=50K\n",
      "6               9th      Other-service              16        Jamaica  <=50K\n",
      "7           HS-grad    Exec-managerial              45  United-States   >50K\n",
      "10     Some-college    Exec-managerial              80  United-States   >50K\n",
      "...             ...                ...             ...            ...    ...\n",
      "32555  Some-college    Protective-serv              40  United-States  <=50K\n",
      "32557       HS-grad  Machine-op-inspct              40  United-States   >50K\n",
      "32558       HS-grad       Adm-clerical              40  United-States  <=50K\n",
      "32559       HS-grad       Adm-clerical              20  United-States  <=50K\n",
      "32560       HS-grad    Exec-managerial              40  United-States   >50K\n",
      "\n",
      "[22045 rows x 5 columns]\n",
      "Ответ: нет\n"
     ]
    }
   ],
   "source": [
    "# a = df['salary'].where((df['education'] == 'Bachelors') | (df['education'] == 'Prof-school') \n",
    "#                        | (df['education'] == 'Assoc-acdm') | (df['education'] == 'Assoc-voc') \n",
    "#                        | (df['education'] == 'Masters') | (df['education'] == 'Doctorate')).dropna()\n",
    "\n",
    "educ = ['Bachelors', 'Prof-school', 'Assoc-acdm', 'Assoc-voc', 'Masters', 'Doctorate']\n",
    "\n",
    "test = df[~df.education.isin(educ)]\n",
    "\n",
    "b = test.drop(columns= ['age', 'fnlwgt', 'marital-status', 'relationship', 'race', 'sex',\n",
    "                         'capital-gain', 'capital-loss', 'workclass', 'education-num'])\n",
    "\n",
    "# print(a)\n",
    "print(b)\n",
    "print(\"Ответ: нет\")"
   ]
  },
  {
   "cell_type": "markdown",
   "metadata": {},
   "source": [
    "**7. Выведите статистику возраста для каждой расы (признак *race*) и каждого пола. Используйте *groupby* и *describe*. Найдите таким образом максимальный возраст мужчин расы *Asian-Pac-Islander*.**"
   ]
  },
  {
   "cell_type": "code",
   "execution_count": 11,
   "metadata": {
    "scrolled": true
   },
   "outputs": [
    {
     "name": "stdout",
     "output_type": "stream",
     "text": [
      "90.0\n"
     ]
    }
   ],
   "source": [
    "a = df[['race', 'age', 'sex']]\n",
    "b = a.groupby('race')\n",
    "\n",
    "c = b.get_group(\"Asian-Pac-Islander\")\n",
    "d = c['age'].where(c['sex'] == 'Male').max()\n",
    "\n",
    "a.describe()\n",
    "print(d)"
   ]
  },
  {
   "cell_type": "markdown",
   "metadata": {},
   "source": [
    "**8. Среди кого больше доля зарабатывающих много (>50K): среди женатых или холостых мужчин (признак *marital-status*)? Женатыми считаем тех, у кого *marital-status* начинается с *Married* (Married-civ-spouse, Married-spouse-absent или Married-AF-spouse), остальных считаем холостыми.**"
   ]
  },
  {
   "cell_type": "code",
   "execution_count": 30,
   "metadata": {},
   "outputs": [
    {
     "name": "stdout",
     "output_type": "stream",
     "text": [
      "0.20687325327846195\n",
      "0.03393630416756242\n",
      "Ответ: среди женатых больше\n"
     ]
    }
   ],
   "source": [
    "marr = ['Married-civ-spouse', 'Married-spouse-absent', 'Married-AF-spouse']\n",
    "\n",
    "a = df[df['marital-status'].isin(marr)]\n",
    "b = df[~df['marital-status'].isin(marr)]\n",
    "\n",
    "fr1 = a[\"salary\"] == \">50K\"\n",
    "fr2 = b[\"salary\"] == \">50K\"\n",
    "\n",
    "married_loaded  = a.loc[fr1, :]\n",
    "not_married_loaded = b.loc[fr2, :]\n",
    "\n",
    "stat1 = len(married_loaded)/len(df)\n",
    "stat2 = len(not_married_loaded)/len(df)\n",
    "\n",
    "print(stat1)\n",
    "print(stat2)\n",
    "print(\"Ответ: среди женатых больше\")"
   ]
  },
  {
   "cell_type": "markdown",
   "metadata": {},
   "source": [
    "**9. Какое максимальное число часов человек работает в неделю (признак *hours-per-week*)? Сколько людей работают такое количество часов и каков среди них процент зарабатывающих много?**"
   ]
  },
  {
   "cell_type": "code",
   "execution_count": 52,
   "metadata": {},
   "outputs": [
    {
     "name": "stdout",
     "output_type": "stream",
     "text": [
      "34.48275862068966\n",
      "Ответ: 34.5%\n"
     ]
    }
   ],
   "source": [
    "a = df[['hours-per-week', 'salary']]\n",
    "\n",
    "fr1 = a['hours-per-week'] == 90\n",
    "fr2 = a['salary'] == \">50K\"\n",
    "fr3 = a['salary'] == '<=50K'\n",
    "\n",
    "work_loaded = a.loc[(fr1 & fr2), :]\n",
    "work_not_so_loaded = a.loc[(fr1 & fr3), :]\n",
    "\n",
    "number_of_loaded = work_loaded.salary.count()\n",
    "number_of_brokes = work_not_so_loaded.salary.count()\n",
    "\n",
    "total_of_90h_squad = number_of_loaded + number_of_brokes\n",
    "\n",
    "perc_loaded = (number_of_loaded/total_of_90h_squad)*100\n",
    "\n",
    "perc_broke = (number_of_brokes/total_of_90h_squad)*100\n",
    "\n",
    "print(perc_loaded)\n",
    "\n",
    "print('Ответ: 34.5%')"
   ]
  },
  {
   "cell_type": "markdown",
   "metadata": {},
   "source": [
    "**10. Посчитайте среднее время работы (*hours-per-week*) зарабатывающих мало и много (*salary*) для каждой страны (*native-country*).**"
   ]
  },
  {
   "cell_type": "code",
   "execution_count": 59,
   "metadata": {
    "scrolled": true
   },
   "outputs": [
    {
     "name": "stdout",
     "output_type": "stream",
     "text": [
      "                            hours-per-week\n",
      "native-country                            \n",
      "?                                41.512864\n",
      "Cambodia                         40.894737\n",
      "Canada                           40.404959\n",
      "China                            37.786667\n",
      "Columbia                         39.067797\n",
      "Cuba                             39.157895\n",
      "Dominican-Republic               42.471429\n",
      "Ecuador                          39.571429\n",
      "El-Salvador                      36.792453\n",
      "England                          41.833333\n",
      "France                           45.068966\n",
      "Germany                          41.014599\n",
      "Greece                           44.241379\n",
      "Guatemala                        39.234375\n",
      "Haiti                            36.909091\n",
      "Holand-Netherlands               40.000000\n",
      "Honduras                         36.307692\n",
      "Hong                             40.900000\n",
      "Hungary                          35.615385\n",
      "India                            41.530000\n",
      "Iran                             43.976744\n",
      "Ireland                          42.416667\n",
      "Italy                            41.602740\n",
      "Jamaica                          38.592593\n",
      "Japan                            43.693548\n",
      "Laos                             40.333333\n",
      "Mexico                           40.340591\n",
      "Nicaragua                        36.176471\n",
      "Outlying-US(Guam-USVI-etc)       41.857143\n",
      "Peru                             35.387097\n",
      "Philippines                      39.595960\n",
      "Poland                           38.333333\n",
      "Portugal                         41.891892\n",
      "Puerto-Rico                      38.570175\n",
      "Scotland                         41.250000\n",
      "South                            42.412500\n",
      "Taiwan                           38.882353\n",
      "Thailand                         45.444444\n",
      "Trinadad&Tobago                  37.368421\n",
      "United-States                    40.447755\n",
      "Vietnam                          37.343284\n",
      "Yugoslavia                       44.562500\n"
     ]
    }
   ],
   "source": [
    "a = df[['hours-per-week', 'native-country']]\n",
    "\n",
    "# print(a)\n",
    "# b = a['native-country'].unique()\n",
    "# print(b)\n",
    "\n",
    "grouped_countries = a.groupby('native-country')\n",
    "\n",
    "# grouped_countries.describe()\n",
    "\n",
    "average_h = grouped_countries.mean()\n",
    "\n",
    "print(average_h)"
   ]
  },
  {
   "cell_type": "markdown",
   "metadata": {},
   "source": [
    "**11.Сгруппируйте людей по возрастным группам *young*, *adult*, *retiree*, где:**\n",
    "* *young* соответствует 16-35 лет\n",
    "* *adult* - 35-70 лет\n",
    "* *retiree* - 70-100 лет\n",
    "\n",
    "**Проставьте название соответсвтуещей группы для каждого человека в новой колонке AgeGroup**"
   ]
  },
  {
   "cell_type": "code",
   "execution_count": 15,
   "metadata": {
    "scrolled": true
   },
   "outputs": [],
   "source": [
    "# your code"
   ]
  },
  {
   "cell_type": "markdown",
   "metadata": {},
   "source": [
    "**12-13. Определите количество зарабатывающих >50K в каждой из возрастных групп (колонка AgeGroup), а также выведите название возрастной группы, в которой чаще зарабатывают больше 50К (>50K)**"
   ]
  },
  {
   "cell_type": "code",
   "execution_count": 16,
   "metadata": {},
   "outputs": [],
   "source": [
    "# your code"
   ]
  },
  {
   "cell_type": "markdown",
   "metadata": {},
   "source": [
    "**14. Сгруппируйте людей по типу занятости (колонка occupation) и определите количество людей в каждой группе. После чего напишите функциюю фильтрации filter_func, которая будет возвращать только те группы, в которых средний возраст (колонка age) не больше 40 и в которых все работники отрабатывают более 5 часов в неделю (колонка hours-per-week)**"
   ]
  },
  {
   "cell_type": "code",
   "execution_count": 17,
   "metadata": {},
   "outputs": [],
   "source": [
    "# your code"
   ]
  }
 ],
 "metadata": {
  "anaconda-cloud": {},
  "kernelspec": {
   "display_name": "Python 3 (ipykernel)",
   "language": "python",
   "name": "python3"
  },
  "language_info": {
   "codemirror_mode": {
    "name": "ipython",
    "version": 3
   },
   "file_extension": ".py",
   "mimetype": "text/x-python",
   "name": "python",
   "nbconvert_exporter": "python",
   "pygments_lexer": "ipython3",
   "version": "3.12.0"
  }
 },
 "nbformat": 4,
 "nbformat_minor": 1
}
