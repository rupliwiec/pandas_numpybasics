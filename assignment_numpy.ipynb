{
 "cells": [
  {
   "cell_type": "markdown",
   "id": "d3df79dd",
   "metadata": {},
   "source": [
    "## Упражнения по библиотеке Numpy"
   ]
  },
  {
   "cell_type": "code",
   "execution_count": 1,
   "id": "76b9c43b",
   "metadata": {},
   "outputs": [],
   "source": [
    "import numpy as np"
   ]
  },
  {
   "cell_type": "markdown",
   "id": "03727b7c",
   "metadata": {},
   "source": [
    "**1.** Дан случайный массив, поменять знак у элементов, значения которых между 3 и 8"
   ]
  },
  {
   "cell_type": "code",
   "execution_count": 2,
   "id": "b89a7523",
   "metadata": {},
   "outputs": [
    {
     "name": "stdout",
     "output_type": "stream",
     "text": [
      "[-7 -7  9  9  9 -6  3 -5  3  1]\n"
     ]
    }
   ],
   "source": [
    "import numpy.random\n",
    "array = numpy.random.randint(1,10,10)\n",
    "b = np.where((array > 3) & (array <= 8))\n",
    "array[b]*=-1\n",
    "print(array)"
   ]
  },
  {
   "cell_type": "markdown",
   "id": "5fa4abda",
   "metadata": {},
   "source": [
    "**2.** Заменить максимальный элемент случайного массива на 0"
   ]
  },
  {
   "cell_type": "code",
   "execution_count": 3,
   "id": "f2788a6e",
   "metadata": {},
   "outputs": [
    {
     "name": "stdout",
     "output_type": "stream",
     "text": [
      "[0 0 0 4 4 2 5 4 3 6]\n"
     ]
    }
   ],
   "source": [
    "arr = numpy.random.randint(1,10,10)\n",
    "arr[np.where(arr == arr.max())] = 0\n",
    "print(arr)"
   ]
  },
  {
   "cell_type": "markdown",
   "id": "3cac656b",
   "metadata": {},
   "source": [
    "**3.** Построить прямое произведение массивов (все комбинации с каждым элементом). На вход подается двумерный массив"
   ]
  },
  {
   "cell_type": "code",
   "execution_count": 4,
   "id": "3396b764",
   "metadata": {},
   "outputs": [
    {
     "name": "stdout",
     "output_type": "stream",
     "text": [
      "[[7 7]\n",
      " [7 4]\n",
      " [7 3]\n",
      " [7 9]\n",
      " [7 8]\n",
      " [7 6]\n",
      " [4 7]\n",
      " [4 4]\n",
      " [4 3]\n",
      " [4 9]\n",
      " [4 8]\n",
      " [4 6]\n",
      " [3 7]\n",
      " [3 4]\n",
      " [3 3]\n",
      " [3 9]\n",
      " [3 8]\n",
      " [3 6]\n",
      " [9 7]\n",
      " [9 4]\n",
      " [9 3]\n",
      " [9 9]\n",
      " [9 8]\n",
      " [9 6]\n",
      " [8 7]\n",
      " [8 4]\n",
      " [8 3]\n",
      " [8 9]\n",
      " [8 8]\n",
      " [8 6]\n",
      " [6 7]\n",
      " [6 4]\n",
      " [6 3]\n",
      " [6 9]\n",
      " [6 8]\n",
      " [6 6]]\n"
     ]
    }
   ],
   "source": [
    "arr = np.array([[7, 4, 3], [9, 8, 6]]) #двумерный массив\n",
    "\n",
    "cart = np.array(np.meshgrid(arr, arr)).T.reshape(-1,2)\n",
    "\n",
    "print(cart)"
   ]
  },
  {
   "cell_type": "markdown",
   "id": "674c9354",
   "metadata": {},
   "source": [
    "**4.** Даны 2 массива A (8x3) и B (2x2). Найти строки в A, которые содержат элементы из каждой строки в B, независимо от порядка элементов в B"
   ]
  },
  {
   "cell_type": "code",
   "execution_count": 5,
   "id": "cb664782",
   "metadata": {},
   "outputs": [
    {
     "name": "stdout",
     "output_type": "stream",
     "text": [
      "[0 2 4 5 7]\n"
     ]
    }
   ],
   "source": [
    "a = np.random.randint(1,9,(8,3))\n",
    "b = np.random.randint(1,9,(2,2))\n",
    "c = (a[..., np.newaxis, np.newaxis] == b)\n",
    "d = (c.sum(axis=(1,2,3)) >= b.shape[1]).nonzero()[0]\n",
    "print(d)"
   ]
  },
  {
   "cell_type": "markdown",
   "id": "fa46533b",
   "metadata": {},
   "source": [
    "**5.** Дана 10x3 матрица, найти строки из неравных значений (например строка [2,2,3] остается, строка [3,3,3] удаляется)"
   ]
  },
  {
   "cell_type": "code",
   "execution_count": 6,
   "id": "fa545b23",
   "metadata": {},
   "outputs": [
    {
     "name": "stdout",
     "output_type": "stream",
     "text": [
      "[[2 7 3]\n",
      " [5 6 6]\n",
      " [3 5 5]\n",
      " [7 4 5]\n",
      " [3 5 7]\n",
      " [4 2 6]\n",
      " [7 5 4]\n",
      " [4 7 8]\n",
      " [8 8 4]\n",
      " [3 4 3]]\n"
     ]
    }
   ],
   "source": [
    "a = np.random.randint(1,9,(10,3))\n",
    "b = np.logical_and.reduce(a[:,1:] == a[:,:-1], axis=1)\n",
    "c = a[~b]\n",
    "print(c)"
   ]
  },
  {
   "cell_type": "markdown",
   "id": "28f0d116",
   "metadata": {},
   "source": [
    "**6.** Дан двумерный массив. Удалить те строки, которые повторяются"
   ]
  },
  {
   "cell_type": "code",
   "execution_count": 7,
   "id": "83d2c0b7",
   "metadata": {},
   "outputs": [
    {
     "name": "stdout",
     "output_type": "stream",
     "text": [
      "[[5 5 4 8 7 7 2 7]\n",
      " [5 5 8 1 6 6 6 4]]\n"
     ]
    }
   ],
   "source": [
    "arr = np.random.randint(1, 9, size=(2, 8))\n",
    "\n",
    "new_array = [tuple(row) for row in arr]\n",
    "\n",
    "unique_num = np.unique(new_array, axis=0)\n",
    "\n",
    "print(unique_num)"
   ]
  },
  {
   "cell_type": "markdown",
   "id": "6daa9e37",
   "metadata": {},
   "source": [
    "______\n",
    "______"
   ]
  },
  {
   "cell_type": "markdown",
   "id": "cfbfcaff",
   "metadata": {},
   "source": [
    "Для каждой из следующих задач (1-5) нужно привести 2 реализации – одна без использования numpy (cчитайте, что там, где на входе или выходе должны быть numpy array, будут просто списки), а вторая полностью векторизованная с использованием numpy (без использования питоновских циклов/map/list comprehension).\n",
    "\n",
    "\n",
    "__Замечание 1.__ Можно считать, что все указанные объекты непустые (к примеру, в __задаче 1__ на диагонали матрицы есть ненулевые элементы).\n",
    "\n",
    "__Замечание 2.__ Для большинства задач решение занимает не больше 1-2 строк."
   ]
  },
  {
   "cell_type": "markdown",
   "id": "673cac7f",
   "metadata": {},
   "source": [
    "___"
   ]
  },
  {
   "cell_type": "markdown",
   "id": "ca6f585e",
   "metadata": {},
   "source": [
    "* __Задача 1__: Подсчитать произведение ненулевых элементов на диагонали прямоугольной матрицы.  \n",
    " Например, для X = np.array([[1, 0, 1], [2, 0, 2], [3, 0, 3], [4, 4, 4]]) ответ 3."
   ]
  },
  {
   "cell_type": "code",
   "execution_count": 25,
   "id": "065862fc",
   "metadata": {},
   "outputs": [
    {
     "name": "stdout",
     "output_type": "stream",
     "text": [
      "Произведение ненулевых элементов на диагонали: 8\n"
     ]
    }
   ],
   "source": [
    "# 1 способ \n",
    "def diagonal_product_numpy(matrix):\n",
    "    diagonal_elements = np.diagonal(matrix) # Получить диагональные элементы как одномерный массив\n",
    "    non_zero_diagonal_elements = diagonal_elements[diagonal_elements != 0] # Отфильтровать ненулевые элементы\n",
    "    product = np.prod(non_zero_diagonal_elements) # Вычислить произведение ненулевых элементов\n",
    "    return product\n",
    "\n",
    "# Пример\n",
    "matrix = np.array([\n",
    "    [0, 7, 0],\n",
    "    [0, 8, 0],\n",
    "    [1, 0, 0]\n",
    "])\n",
    "\n",
    "result = diagonal_product_numpy(matrix)\n",
    "print(\"Произведение ненулевых элементов на диагонали:\", result)"
   ]
  },
  {
   "cell_type": "code",
   "execution_count": 9,
   "metadata": {},
   "outputs": [
    {
     "name": "stdout",
     "output_type": "stream",
     "text": [
      "Произведение ненулевых элементов на диагонали: 360\n"
     ]
    }
   ],
   "source": [
    "# 2 способ\n",
    "def diagonal_product(matrix):\n",
    "    if not matrix:\n",
    "        return None             # Проверка что матрица не пустая\n",
    "    rows = len(matrix)          # Размеры матрицы\n",
    "    cols = len(matrix[0])\n",
    "    product = 1                 # Для хранения произведения\n",
    "    for i in range(min(rows, cols)):    # Итерация по диагонали и умножения ненулевых значений\n",
    "        if matrix[i][i] != 0:\n",
    "            product *= matrix[i][i]\n",
    "    \n",
    "    return product\n",
    "\n",
    "# Пример\n",
    "matrix = [\n",
    "    [5, 0, 0],\n",
    "    [0, 8, 0],\n",
    "    [0, 0, 9]\n",
    "]\n",
    "\n",
    "result = diagonal_product(matrix)\n",
    "print(\"Произведение ненулевых элементов на диагонали:\", result)"
   ]
  },
  {
   "cell_type": "markdown",
   "id": "9fc51d41",
   "metadata": {},
   "source": [
    "* __Задача 2__: Даны два вектора x и y. Проверить, задают ли они одно и то же мультимножество.  \n",
    "  Например, для x = np.array([1, 2, 2, 4]), y = np.array([4, 2, 1, 2]) ответ True."
   ]
  },
  {
   "cell_type": "code",
   "execution_count": 10,
   "id": "a809e02f",
   "metadata": {},
   "outputs": [
    {
     "name": "stdout",
     "output_type": "stream",
     "text": [
      "False\n"
     ]
    }
   ],
   "source": [
    "# 1 способ\n",
    "\n",
    "def are_multisets_equal(x, y):\n",
    "    # Отсортировать векторы\n",
    "    sorted_x = np.sort(x)\n",
    "    sorted_y = np.sort(y)\n",
    "    # Сравнить отсортированные векторы\n",
    "    return np.array_equal(sorted_x, sorted_y)\n",
    "\n",
    "# Пример\n",
    "x = np.array([1, 5, 7, 9])\n",
    "y = np.array([4, 3, 2, 7])\n",
    "\n",
    "result = are_multisets_equal(x, y)\n",
    "print(result)"
   ]
  },
  {
   "cell_type": "code",
   "execution_count": 11,
   "metadata": {},
   "outputs": [
    {
     "name": "stdout",
     "output_type": "stream",
     "text": [
      "False\n"
     ]
    }
   ],
   "source": [
    "# 2 способ\n",
    "\n",
    "def are_multisets_equal(x, y):\n",
    "    # Отсортировать векторы\n",
    "    sorted_x = sorted(x)\n",
    "    sorted_y = sorted(y)\n",
    "    # Сравнить отсортированные векторы\n",
    "    return sorted_x == sorted_y\n",
    "\n",
    "# Пример\n",
    "x = [1, 5, 7, 9]\n",
    "y = [4, 3, 2, 7]\n",
    "\n",
    "result = are_multisets_equal(x, y)\n",
    "print(result)"
   ]
  },
  {
   "cell_type": "markdown",
   "id": "b9c185c7",
   "metadata": {},
   "source": [
    "* __Задача 3__: Найти максимальный элемент в векторе x среди элементов, перед которыми стоит ноль. \n",
    " Например, для x = np.array([6, 2, 0, 3, 0, 0, 5, 7, 0]) ответ 5."
   ]
  },
  {
   "cell_type": "code",
   "execution_count": 12,
   "id": "b57df008",
   "metadata": {},
   "outputs": [
    {
     "name": "stdout",
     "output_type": "stream",
     "text": [
      "Максимальный элемент после нуля: 5\n"
     ]
    }
   ],
   "source": [
    "# 1 способ \n",
    "\n",
    "def max_after_zero(x):\n",
    "    # Найти индексы элементов, равных 0\n",
    "    zero_indices = np.where(x == 0)[0]\n",
    "    \n",
    "    # Получить индексы элементов после нулей\n",
    "    indices_after_zero = zero_indices + 1\n",
    "    \n",
    "    # Отфильтровать индексы, чтобы они оставались в пределах массива\n",
    "    indices_after_zero = indices_after_zero[indices_after_zero < len(x)]\n",
    "    \n",
    "    # Найти максимальный элемент среди элементов после нулей\n",
    "    max_after_zero_value = np.max(x[indices_after_zero])\n",
    "    \n",
    "    return max_after_zero_value\n",
    "\n",
    "# Пример\n",
    "x = np.array([6, 2, 0, 3, 0, 0, 5, 7, 0])\n",
    "result = max_after_zero(x)\n",
    "print(\"Максимальный элемент после нуля:\", result)"
   ]
  },
  {
   "cell_type": "code",
   "execution_count": 13,
   "metadata": {},
   "outputs": [
    {
     "name": "stdout",
     "output_type": "stream",
     "text": [
      "Максимальный элемент после нуля: 5\n"
     ]
    }
   ],
   "source": [
    "# 2 способ\n",
    "\n",
    "def max_after_zero(x):\n",
    "    # Найти индексы элементов, равных 0\n",
    "    zero_indices = [i for i, value in enumerate(x) if value == 0]\n",
    "    \n",
    "    # Получить индексы элементов после нулей\n",
    "    indices_after_zero = [index + 1 for index in zero_indices if index + 1 < len(x)]\n",
    "    \n",
    "    # Найти максимальный элемент среди элементов после нулей\n",
    "    max_after_zero_value = max(x[index] for index in indices_after_zero)\n",
    "    \n",
    "    return max_after_zero_value\n",
    "\n",
    "# Пример\n",
    "x = [6, 2, 0, 3, 0, 0, 5, 7, 0]\n",
    "result = max_after_zero(x)\n",
    "print(\"Максимальный элемент после нуля:\", result)"
   ]
  },
  {
   "cell_type": "markdown",
   "id": "480be4ce",
   "metadata": {},
   "source": [
    "* __Задача 4__: Реализовать кодирование длин серий (Run-length encoding). Для некоторого вектора x необходимо вернуть кортеж из двух векторов одинаковой длины. Первый содержит числа, а второй - сколько раз их нужно повторить.  \n",
    " Например, для x = np.array([2, 2, 2, 3, 3, 3, 5]) ответ (np.array([2, 3, 5]), np.array([3, 3, 1]))."
   ]
  },
  {
   "cell_type": "code",
   "execution_count": 26,
   "id": "3c592124",
   "metadata": {},
   "outputs": [
    {
     "name": "stdout",
     "output_type": "stream",
     "text": [
      "Входной вектор: [5 7 6 3 2 3 5]\n",
      "Закодированный результат:\n",
      "Уникальные значения: [2 3 5 6 7]\n",
      "Количество повторений: [1 2 2 1 1]\n"
     ]
    }
   ],
   "source": [
    "# 1 способ\n",
    "\n",
    "def run_length_encoding(x):\n",
    "    # Инициализация переменных\n",
    "    unique_values, counts = np.unique(x, return_counts=True)\n",
    "    \n",
    "    # Возвращение кортежа из двух векторов\n",
    "    return unique_values, counts\n",
    "\n",
    "# Пример\n",
    "x = np.array([5, 7, 6, 3, 2, 3, 5])\n",
    "result = run_length_encoding(x)\n",
    "\n",
    "print(\"Входной вектор:\", x)\n",
    "print(\"Закодированный результат:\")\n",
    "print(\"Уникальные значения:\", result[0])\n",
    "print(\"Количество повторений:\", result[1])"
   ]
  },
  {
   "cell_type": "code",
   "execution_count": 27,
   "metadata": {},
   "outputs": [
    {
     "name": "stdout",
     "output_type": "stream",
     "text": [
      "Входной вектор: [5, 7, 6, 3, 2, 3, 5]\n",
      "Закодированный результат:\n",
      "Уникальные значения: [5, 7, 6, 3, 2, 3, 5]\n",
      "Количество повторений: [1, 1, 1, 1, 1, 1, 1]\n"
     ]
    }
   ],
   "source": [
    "# 2 способ\n",
    "\n",
    "def run_length_encoding(x):\n",
    "    unique_values = []\n",
    "    counts = []\n",
    "\n",
    "    # Iterating through the input list\n",
    "    i = 0\n",
    "    while i < len(x):\n",
    "        # Current element\n",
    "        current_value = x[i]\n",
    "\n",
    "        # Count occurrences of the current element\n",
    "        count = 1\n",
    "        while i + 1 < len(x) and x[i] == x[i + 1]:\n",
    "            count += 1\n",
    "            i += 1\n",
    "\n",
    "        # Append unique value and count to lists\n",
    "        unique_values.append(current_value)\n",
    "        counts.append(count)\n",
    "\n",
    "        # Move to the next element\n",
    "        i += 1\n",
    "\n",
    "    return unique_values, counts\n",
    "\n",
    "# Example\n",
    "x = [5, 7, 6, 3, 2, 3, 5]\n",
    "result = run_length_encoding(x)\n",
    "\n",
    "print(\"Входной вектор:\", x)\n",
    "print(\"Закодированный результат:\")\n",
    "print(\"Уникальные значения:\", result[0])\n",
    "print(\"Количество повторений:\", result[1])"
   ]
  },
  {
   "cell_type": "markdown",
   "id": "077532ec",
   "metadata": {},
   "source": [
    "* __Задача 5__: Даны две выборки объектов - X и Y. Вычислить матрицу евклидовых расстояний между объектами. Сравните с функцией scipy.spatial.distance.cdist по скорости работы."
   ]
  },
  {
   "cell_type": "code",
   "execution_count": 28,
   "id": "1e807797",
   "metadata": {},
   "outputs": [
    {
     "name": "stdout",
     "output_type": "stream",
     "text": [
      "Матрица евклидовых расстояний (собственная реализация):\n",
      "[[ 8.48528137 11.3137085 ]\n",
      " [ 5.65685425  8.48528137]\n",
      " [ 2.82842712  5.65685425]]\n"
     ]
    }
   ],
   "source": [
    "# 1 способ\n",
    "\n",
    "def euclidean_distance_matrix(X, Y):\n",
    "    # Разница между объектами по каждой координате\n",
    "    diff = X[:, np.newaxis, :] - Y[np.newaxis, :, :]\n",
    "    \n",
    "    # Возведение в квадрат каждой разницы и суммирование по координатам\n",
    "    distances = np.sqrt(np.sum(diff**2, axis=-1))\n",
    "    \n",
    "    return distances\n",
    "\n",
    "# Пример\n",
    "X = np.array([[1, 2], [3, 4], [5, 6]])\n",
    "Y = np.array([[7, 8], [9, 10]])\n",
    "\n",
    "# Вычисление матрицы евклидовых расстояний\n",
    "result_custom = euclidean_distance_matrix(X, Y)\n",
    "\n",
    "print(\"Матрица евклидовых расстояний (собственная реализация):\")\n",
    "print(result_custom)"
   ]
  },
  {
   "cell_type": "markdown",
   "id": "973e8064",
   "metadata": {},
   "source": [
    "_______\n",
    "________"
   ]
  },
  {
   "cell_type": "markdown",
   "id": "1104acb7",
   "metadata": {},
   "source": [
    "* #### __Задача 6__: CrunchieMunchies __*__\n",
    "\n",
    "Вы работаете в отделе маркетинга пищевой компании MyCrunch, которая разрабатывает новый вид вкусных, полезных злаков под названием **CrunchieMunchies**.\n",
    "\n",
    "Вы хотите продемонстрировать потребителям, насколько полезны ваши хлопья по сравнению с другими ведущими брендами, поэтому вы собрали данные о питании нескольких разных конкурентов.\n",
    "\n",
    "Ваша задача - использовать вычисления Numpy для анализа этих данных и доказать, что ваши **СrunchieMunchies** - самый здоровый выбор для потребителей.\n"
   ]
  },
  {
   "cell_type": "code",
   "execution_count": 16,
   "id": "10a77f8d",
   "metadata": {},
   "outputs": [],
   "source": [
    "import numpy as np"
   ]
  },
  {
   "cell_type": "markdown",
   "id": "ab87cb03",
   "metadata": {},
   "source": [
    "1. Просмотрите файл cereal.csv. Этот файл содержит количества калорий для различных марок хлопьев. Загрузите данные из файла и сохраните их как calorie_stats."
   ]
  },
  {
   "cell_type": "code",
   "execution_count": 17,
   "id": "9681ebf2",
   "metadata": {},
   "outputs": [
    {
     "data": {
      "text/plain": [
       "array([ 70., 120.,  70.,  50., 110., 110., 110., 130.,  90.,  90., 120.,\n",
       "       110., 120., 110., 110., 110., 100., 110., 110., 110., 100., 110.,\n",
       "       100., 100., 110., 110., 100., 120., 120., 110., 100., 110., 100.,\n",
       "       110., 120., 120., 110., 110., 110., 140., 110., 100., 110., 100.,\n",
       "       150., 150., 160., 100., 120., 140.,  90., 130., 120., 100.,  50.,\n",
       "        50., 100., 100., 120., 100.,  90., 110., 110.,  80.,  90.,  90.,\n",
       "       110., 110.,  90., 110., 140., 100., 110., 110., 100., 100., 110.])"
      ]
     },
     "execution_count": 17,
     "metadata": {},
     "output_type": "execute_result"
    }
   ],
   "source": [
    "calorie_stats = np.loadtxt(\"./data/cereal.csv\", delimiter=\",\")\n",
    "calorie_stats"
   ]
  },
  {
   "cell_type": "markdown",
   "id": "139cfbd8",
   "metadata": {},
   "source": [
    "2. В одной порции CrunchieMunchies содержится 60 калорий. Насколько выше среднее количество калорий у ваших конкурентов?\n",
    "\n",
    "Сохраните ответ в переменной average_calories и распечатайте переменную в терминале"
   ]
  },
  {
   "cell_type": "code",
   "execution_count": 18,
   "id": "7036d240",
   "metadata": {},
   "outputs": [],
   "source": [
    "# your code"
   ]
  },
  {
   "cell_type": "markdown",
   "id": "b2ddb4cd",
   "metadata": {},
   "source": [
    "3. Корректно ли среднее количество калорий отражает распределение набора данных? Давайте отсортируем данные и посмотрим.\n",
    "\n",
    "Отсортируйте данные и сохраните результат в переменной calorie_stats_sorted. Распечатайте отсортированную информацию"
   ]
  },
  {
   "cell_type": "code",
   "execution_count": 19,
   "id": "46eeb4ed",
   "metadata": {},
   "outputs": [],
   "source": [
    "# your code"
   ]
  },
  {
   "cell_type": "markdown",
   "id": "4dc74116",
   "metadata": {},
   "source": [
    "4. Похоже, что большинство значений выше среднего. Давайте посмотрим, является ли медиана наиболее корректным показателем набора данных.\n",
    "\n",
    "Вычислите медиану набора данных и сохраните свой ответ в median_calories. Выведите медиану, чтобы вы могли видеть, как она сравнивается со средним значением."
   ]
  },
  {
   "cell_type": "code",
   "execution_count": 20,
   "id": "b56627c3",
   "metadata": {},
   "outputs": [],
   "source": [
    "# your code"
   ]
  },
  {
   "cell_type": "markdown",
   "id": "a63ab72f",
   "metadata": {},
   "source": [
    "5. В то время как медиана показывает, что по крайней мере половина наших значений составляет более 100 калорий, было бы более впечатляюще показать, что значительная часть конкурентов имеет более высокое количество калорий, чем CrunchieMunchies.\n",
    "\n",
    "Рассчитайте различные процентили и распечатайте их, пока не найдете наименьший процентиль, превышающий 60 калорий. Сохраните это значение в переменной nth_percentile."
   ]
  },
  {
   "cell_type": "code",
   "execution_count": 21,
   "id": "fe80ce03",
   "metadata": {},
   "outputs": [],
   "source": [
    "# your code"
   ]
  },
  {
   "cell_type": "markdown",
   "id": "a2a3c5aa",
   "metadata": {},
   "source": [
    "6. Хотя процентиль показывает нам, что у большинства конкурентов количество калорий намного выше, это неудобная концепция для использования в маркетинговых материалах.\n",
    "\n",
    "Вместо этого давайте подсчитаем процент хлопьев, в которых содержится более 60 калорий на порцию. Сохраните свой ответ в переменной more_calories и распечатайте его"
   ]
  },
  {
   "cell_type": "code",
   "execution_count": 22,
   "id": "ade0f6ea",
   "metadata": {},
   "outputs": [],
   "source": [
    "# your code"
   ]
  },
  {
   "cell_type": "markdown",
   "id": "1735d65b",
   "metadata": {},
   "source": [
    "7. Это действительно высокий процент. Это будет очень полезно, когда мы будем продвигать CrunchieMunchies. Но один вопрос заключается в том, насколько велики различия в наборе данных? Можем ли мы сделать обобщение, что в большинстве злаков содержится около 100 калорий или разброс еще больше?\n",
    "\n",
    "Рассчитайте величину отклонения, найдя стандартное отклонение, Сохраните свой ответ в calorie_std и распечатайте на терминале. Как мы можем включить эту ценность в наш анализ?"
   ]
  },
  {
   "cell_type": "code",
   "execution_count": 23,
   "id": "85c8df1f",
   "metadata": {},
   "outputs": [],
   "source": [
    "# your code"
   ]
  },
  {
   "cell_type": "markdown",
   "id": "037455c5",
   "metadata": {},
   "source": [
    "8. Напишите короткий абзац, в котором кратко изложите свои выводы и то, как, по вашему мнению, эти данные могут быть использованы в интересах Mycrunch при маркетинге CrunchieMunchies."
   ]
  },
  {
   "cell_type": "code",
   "execution_count": 24,
   "id": "c260fee9",
   "metadata": {},
   "outputs": [],
   "source": [
    "# your code"
   ]
  }
 ],
 "metadata": {
  "kernelspec": {
   "display_name": "Python 3 (ipykernel)",
   "language": "python",
   "name": "python3"
  },
  "language_info": {
   "codemirror_mode": {
    "name": "ipython",
    "version": 3
   },
   "file_extension": ".py",
   "mimetype": "text/x-python",
   "name": "python",
   "nbconvert_exporter": "python",
   "pygments_lexer": "ipython3",
   "version": "3.12.0"
  }
 },
 "nbformat": 4,
 "nbformat_minor": 5
}
